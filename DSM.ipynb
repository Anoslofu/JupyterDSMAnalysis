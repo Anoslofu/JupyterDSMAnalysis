{
 "cells": [
  {
   "cell_type": "markdown",
   "metadata": {},
   "source": [
    "Todo: \n",
    "\n",
    "Config file"
   ]
  },
  {
   "cell_type": "code",
   "execution_count": 1,
   "metadata": {},
   "outputs": [
    {
     "name": "stdout",
     "output_type": "stream",
     "text": [
      "Hi\n"
     ]
    }
   ],
   "source": [
    "import subprocess\n",
    "import io\n",
    "\n",
    "def compile_java(java_file):\n",
    "    subprocess.run(['javac' , java_file])\n",
    "    \n",
    "def run_java(java_class):\n",
    "    result = subprocess.Popen(['java' , java_class], stdout=subprocess.PIPE)\n",
    "    for line in io.TextIOWrapper(result.stdout, encoding=\"utf-8\"):\n",
    "        print(line)\n",
    "    \n",
    "compile_java(\"1.java\")\n",
    "run_java(\"Test\")"
   ]
  },
  {
   "cell_type": "code",
   "execution_count": null,
   "metadata": {},
   "outputs": [],
   "source": []
  }
 ],
 "metadata": {
  "kernelspec": {
   "display_name": "Python 3",
   "language": "python",
   "name": "python3"
  },
  "language_info": {
   "codemirror_mode": {
    "name": "ipython",
    "version": 3
   },
   "file_extension": ".py",
   "mimetype": "text/x-python",
   "name": "python",
   "nbconvert_exporter": "python",
   "pygments_lexer": "ipython3",
   "version": "3.6.1"
  }
 },
 "nbformat": 4,
 "nbformat_minor": 2
}
